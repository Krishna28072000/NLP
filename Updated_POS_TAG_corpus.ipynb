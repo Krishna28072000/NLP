{
 "cells": [
  {
   "cell_type": "code",
   "execution_count": null,
   "id": "5a8a83ad",
   "metadata": {},
   "outputs": [],
   "source": [
    "import nltk\n",
    "from nltk.tokenize import word_tokenize\n",
    "from nltk import pos_tag\n",
    "import spacy\n"
   ]
  },
  {
   "cell_type": "code",
   "execution_count": null,
   "id": "28c23e7c",
   "metadata": {},
   "outputs": [],
   "source": [
    "nltk.download('punkt')\n",
    "nltk.download('averaged_perceptron_tagger')"
   ]
  },
  {
   "cell_type": "code",
   "execution_count": null,
   "id": "28fbaa55",
   "metadata": {},
   "outputs": [],
   "source": [
    "# POS Tagging using NLTK\n",
    "text = 'Python lives in the Amazon rainforest and loves data science.'\n",
    "tokens = word_tokenize(text)\n",
    "pos_tags = pos_tag(tokens)\n",
    "for word, tag in pos_tags:\n",
    "    print(f'{word:<15} POS Tag: {tag}')"
   ]
  },
  {
   "cell_type": "code",
   "execution_count": null,
   "id": "412f161c",
   "metadata": {},
   "outputs": [],
   "source": [
    "# POS Tagging using spaCy\n",
    "nlp = spacy.load('en_core_web_sm')\n",
    "doc = nlp(text)\n",
    "for token in doc:\n",
    "    print(f'{token.text:<15} POS: {token.pos_:<10} Detailed POS: {token.tag_}')"
   ]
  }
 ],
 "metadata": {
  "kernelspec": {
   "display_name": "Python 3",
   "language": "python",
   "name": "python3"
  },
  "language_info": {
   "codemirror_mode": {
    "name": "ipython",
    "version": 3
   },
   "file_extension": ".py",
   "mimetype": "text/x-python",
   "name": "python",
   "nbconvert_exporter": "python",
   "pygments_lexer": "ipython3",
   "version": "3.5.4"
  }
 },
 "nbformat": 4,
 "nbformat_minor": 2
}
